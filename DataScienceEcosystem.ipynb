{
 "cells": [
  {
   "cell_type": "markdown",
   "id": "e66b4eb3-cbdb-4758-89a4-784417637855",
   "metadata": {},
   "source": [
    "# Data Science Tools and Ecosystem"
   ]
  },
  {
   "cell_type": "markdown",
   "id": "d810ef8f-cf95-4770-aa82-f1996c1f5e07",
   "metadata": {},
   "source": [
    "In this notebook, Data Science Tools and Ecosystem are summarized."
   ]
  },
  {
   "cell_type": "markdown",
   "id": "7af67ed7-611c-4066-8402-4da0610ed15d",
   "metadata": {
    "tags": []
   },
   "source": [
    "**Objectives:**\n",
    "- Popular languages Data Scientists use\n",
    "- Commonly used libraries \n",
    "- Data Science Tools\n"
   ]
  },
  {
   "cell_type": "markdown",
   "id": "3ab17024-fc64-4082-833b-819fefe24ef3",
   "metadata": {},
   "source": [
    "Some of the popular languages that Data Scientists use are:\n",
    "1. Python\n",
    "2. R\n",
    "3. SQL"
   ]
  },
  {
   "cell_type": "markdown",
   "id": "c29250be-28dc-4b73-b951-e53bf009e5a3",
   "metadata": {},
   "source": [
    "Some of the commonly used libraries used by Data Scientists include:\n",
    "1. Pandas\n",
    "2. NumPy\n",
    "3. SciPy\n",
    "4. MatPlotLib"
   ]
  },
  {
   "cell_type": "markdown",
   "id": "02229862-91fb-43f5-a33d-06bd9989154a",
   "metadata": {
    "tags": []
   },
   "source": [
    "| Data Science Tools | \n",
    "| -------------| \n",
    "| R studio | \n",
    "| JupyterLab | \n",
    "| Apache Zeppelin | "
   ]
  },
  {
   "cell_type": "markdown",
   "id": "a6137bc7-5367-4186-8b39-c74d61da639e",
   "metadata": {},
   "source": [
    "### Below are a few examples of evaluating arithmetic expressions in Python"
   ]
  },
  {
   "cell_type": "code",
   "execution_count": 13,
   "id": "ae2ccb28-2d22-4a35-88f7-3c70ab1f142c",
   "metadata": {
    "tags": []
   },
   "outputs": [
    {
     "data": {
      "text/plain": [
       "17"
      ]
     },
     "execution_count": 13,
     "metadata": {},
     "output_type": "execute_result"
    }
   ],
   "source": [
    "#This a simple arithmetic expression to mutiply then add integers\n",
    "(3*4)+5"
   ]
  },
  {
   "cell_type": "code",
   "execution_count": 15,
   "id": "fb26c7a2-4e35-43d9-b8cc-0ba67fd0ee64",
   "metadata": {
    "tags": []
   },
   "outputs": [
    {
     "data": {
      "text/plain": [
       "3.3333333333333335"
      ]
     },
     "execution_count": 15,
     "metadata": {},
     "output_type": "execute_result"
    }
   ],
   "source": [
    "#This will convert 200 minutes to hours by diving by 60\n",
    "200/60"
   ]
  },
  {
   "cell_type": "markdown",
   "id": "e1d941b5-be0b-4288-b468-536aa3d78aef",
   "metadata": {},
   "source": [
    "## Author \n",
    "Harini"
   ]
  },
  {
   "cell_type": "code",
   "execution_count": null,
   "id": "f09a952e-5235-4974-a551-07538bd4a42c",
   "metadata": {},
   "outputs": [],
   "source": []
  }
 ],
 "metadata": {
  "kernelspec": {
   "display_name": "Python 3 (ipykernel)",
   "language": "python",
   "name": "python3"
  },
  "language_info": {
   "codemirror_mode": {
    "name": "ipython",
    "version": 3
   },
   "file_extension": ".py",
   "mimetype": "text/x-python",
   "name": "python",
   "nbconvert_exporter": "python",
   "pygments_lexer": "ipython3",
   "version": "3.11.5"
  }
 },
 "nbformat": 4,
 "nbformat_minor": 5
}
